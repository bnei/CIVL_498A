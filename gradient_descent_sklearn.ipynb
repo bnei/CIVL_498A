{
 "cells": [
  {
   "cell_type": "code",
   "execution_count": 7,
   "metadata": {},
   "outputs": [
    {
     "name": "stdout",
     "output_type": "stream",
     "text": [
      "Linear Regression Intercept:  19.999999999999993\n",
      "Linear Regression Coefficients:  [ 0. -3. -2.]\n",
      "Ridge Regression Intercept:  6.8059701492537314\n",
      "Ridge Regression Coefficients:  [ 0.         -0.07462687 -0.80597015]\n"
     ]
    }
   ],
   "source": [
    "from sklearn import linear_model\n",
    "\n",
    "x1 = [\n",
    "    [1, 2, 6],\n",
    "    [1, 1, 5],\n",
    "    [1, 5, 2],\n",
    "    [1, 2, 3],\n",
    "    [1, 4, 4]]\n",
    "\n",
    "y1 = [2, 7, 1, 8, 0]\n",
    "\n",
    "x2 = [ \n",
    "    [1, 2, 3],\n",
    "    [1, 1, 5],\n",
    "    [1, 2, 2],\n",
    "    [1, 2, 3],\n",
    "    [1, 3, 1]]\n",
    "\n",
    "y2 = [4, 2.5, 6, 4, 5.5]\n",
    "\n",
    "linReg = linear_model.LinearRegression()\n",
    "linReg.fit(x1,y1)\n",
    "\n",
    "ridgeReg = linear_model.Ridge()\n",
    "ridgeReg.fit(x2,y2)\n",
    "\n",
    "print(\"Linear Regression Intercept: \",linReg.intercept_)\n",
    "print(\"Linear Regression Coefficients: \", linReg.coef_)\n",
    "\n",
    "print(\"Ridge Regression Intercept: \", ridgeReg.intercept_)\n",
    "print(\"Ridge Regression Coefficients: \", ridgeReg.coef_)\n",
    "\n"
   ]
  }
 ],
 "metadata": {
  "interpreter": {
   "hash": "eae239855703e26762fa43cd683d7e50f8a07a30f24594d00eacec5681657f33"
  },
  "kernelspec": {
   "display_name": "Python 3.9.7 64-bit ('498A': conda)",
   "language": "python",
   "name": "python3"
  },
  "language_info": {
   "codemirror_mode": {
    "name": "ipython",
    "version": 3
   },
   "file_extension": ".py",
   "mimetype": "text/x-python",
   "name": "python",
   "nbconvert_exporter": "python",
   "pygments_lexer": "ipython3",
   "version": "3.9.7"
  },
  "orig_nbformat": 4
 },
 "nbformat": 4,
 "nbformat_minor": 2
}
