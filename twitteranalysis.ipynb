{
 "cells": [
  {
   "cell_type": "code",
   "execution_count": 18,
   "metadata": {},
   "outputs": [],
   "source": [
    "import numpy as np\n",
    "import pandas as pd\n",
    "import matplotlib\n",
    "import seaborn as sns"
   ]
  },
  {
   "cell_type": "code",
   "execution_count": 19,
   "metadata": {},
   "outputs": [
    {
     "data": {
      "text/html": [
       "<div>\n",
       "<style scoped>\n",
       "    .dataframe tbody tr th:only-of-type {\n",
       "        vertical-align: middle;\n",
       "    }\n",
       "\n",
       "    .dataframe tbody tr th {\n",
       "        vertical-align: top;\n",
       "    }\n",
       "\n",
       "    .dataframe thead th {\n",
       "        text-align: right;\n",
       "    }\n",
       "</style>\n",
       "<table border=\"1\" class=\"dataframe\">\n",
       "  <thead>\n",
       "    <tr style=\"text-align: right;\">\n",
       "      <th></th>\n",
       "      <th>author id</th>\n",
       "      <th>created_at</th>\n",
       "      <th>geo</th>\n",
       "      <th>id</th>\n",
       "      <th>lang</th>\n",
       "      <th>like_count</th>\n",
       "      <th>quote_count</th>\n",
       "      <th>reply_count</th>\n",
       "      <th>retweet_count</th>\n",
       "      <th>source</th>\n",
       "      <th>tweet</th>\n",
       "      <th>sentiment</th>\n",
       "    </tr>\n",
       "  </thead>\n",
       "  <tbody>\n",
       "    <tr>\n",
       "      <th>0</th>\n",
       "      <td>616698673</td>\n",
       "      <td>2022-02-13 23:20:05+00:00</td>\n",
       "      <td></td>\n",
       "      <td>1493002063491436544</td>\n",
       "      <td>en</td>\n",
       "      <td>0</td>\n",
       "      <td>0</td>\n",
       "      <td>0</td>\n",
       "      <td>200</td>\n",
       "      <td>Twitter Web App</td>\n",
       "      <td>RT @ac_eco: This really is an insane chart com...</td>\n",
       "      <td>negative</td>\n",
       "    </tr>\n",
       "    <tr>\n",
       "      <th>1</th>\n",
       "      <td>1481435266258591745</td>\n",
       "      <td>2022-02-13 20:13:54+00:00</td>\n",
       "      <td></td>\n",
       "      <td>1492955210964082689</td>\n",
       "      <td>en</td>\n",
       "      <td>0</td>\n",
       "      <td>0</td>\n",
       "      <td>0</td>\n",
       "      <td>0</td>\n",
       "      <td>Twitter for Android</td>\n",
       "      <td>@JezCorden In Canada the average price of a ho...</td>\n",
       "      <td>negative</td>\n",
       "    </tr>\n",
       "    <tr>\n",
       "      <th>2</th>\n",
       "      <td>377686386</td>\n",
       "      <td>2022-02-13 18:18:20+00:00</td>\n",
       "      <td></td>\n",
       "      <td>1492926127320432642</td>\n",
       "      <td>en</td>\n",
       "      <td>0</td>\n",
       "      <td>0</td>\n",
       "      <td>0</td>\n",
       "      <td>1</td>\n",
       "      <td>Twitter for iPhone</td>\n",
       "      <td>RT @PaulKulig_TO: @mobilitytings @bambinoir Th...</td>\n",
       "      <td>negative</td>\n",
       "    </tr>\n",
       "    <tr>\n",
       "      <th>3</th>\n",
       "      <td>1354444747</td>\n",
       "      <td>2022-02-13 17:00:17+00:00</td>\n",
       "      <td></td>\n",
       "      <td>1492906486200217605</td>\n",
       "      <td>en</td>\n",
       "      <td>0</td>\n",
       "      <td>0</td>\n",
       "      <td>0</td>\n",
       "      <td>15</td>\n",
       "      <td>Twitter for iPhone</td>\n",
       "      <td>RT @BenRabidoux: Toronto housing now crazier t...</td>\n",
       "      <td>negative</td>\n",
       "    </tr>\n",
       "    <tr>\n",
       "      <th>4</th>\n",
       "      <td>3300074168</td>\n",
       "      <td>2022-02-13 16:59:51+00:00</td>\n",
       "      <td></td>\n",
       "      <td>1492906375181074432</td>\n",
       "      <td>en</td>\n",
       "      <td>0</td>\n",
       "      <td>0</td>\n",
       "      <td>1</td>\n",
       "      <td>0</td>\n",
       "      <td>Twitter for iPhone</td>\n",
       "      <td>@DrJesseMorse @NFLFIRE100 Come try to find a h...</td>\n",
       "      <td>negative</td>\n",
       "    </tr>\n",
       "  </tbody>\n",
       "</table>\n",
       "</div>"
      ],
      "text/plain": [
       "             author id                 created_at geo                   id  \\\n",
       "0            616698673  2022-02-13 23:20:05+00:00      1493002063491436544   \n",
       "1  1481435266258591745  2022-02-13 20:13:54+00:00      1492955210964082689   \n",
       "2            377686386  2022-02-13 18:18:20+00:00      1492926127320432642   \n",
       "3           1354444747  2022-02-13 17:00:17+00:00      1492906486200217605   \n",
       "4           3300074168  2022-02-13 16:59:51+00:00      1492906375181074432   \n",
       "\n",
       "  lang  like_count  quote_count  reply_count  retweet_count  \\\n",
       "0   en           0            0            0            200   \n",
       "1   en           0            0            0              0   \n",
       "2   en           0            0            0              1   \n",
       "3   en           0            0            0             15   \n",
       "4   en           0            0            1              0   \n",
       "\n",
       "                source                                              tweet  \\\n",
       "0      Twitter Web App  RT @ac_eco: This really is an insane chart com...   \n",
       "1  Twitter for Android  @JezCorden In Canada the average price of a ho...   \n",
       "2   Twitter for iPhone  RT @PaulKulig_TO: @mobilitytings @bambinoir Th...   \n",
       "3   Twitter for iPhone  RT @BenRabidoux: Toronto housing now crazier t...   \n",
       "4   Twitter for iPhone  @DrJesseMorse @NFLFIRE100 Come try to find a h...   \n",
       "\n",
       "  sentiment  \n",
       "0  negative  \n",
       "1  negative  \n",
       "2  negative  \n",
       "3  negative  \n",
       "4  negative  "
      ]
     },
     "execution_count": 19,
     "metadata": {},
     "output_type": "execute_result"
    }
   ],
   "source": [
    "t = pd.read_csv(\"twitterData.csv\")\n",
    "t.head()"
   ]
  },
  {
   "cell_type": "code",
   "execution_count": 20,
   "metadata": {},
   "outputs": [
    {
     "data": {
      "text/plain": [
       "negative    84\n",
       "positive    42\n",
       "Name: sentiment, dtype: int64"
      ]
     },
     "execution_count": 20,
     "metadata": {},
     "output_type": "execute_result"
    }
   ],
   "source": [
    "sentiments = t['sentiment']\n",
    "sentiments.value_counts()"
   ]
  },
  {
   "cell_type": "code",
   "execution_count": 21,
   "metadata": {},
   "outputs": [
    {
     "data": {
      "text/plain": [
       "array([[0.        , 0.        , 0.        , ..., 0.        , 0.        ,\n",
       "        0.        ],\n",
       "       [0.        , 0.        , 0.        , ..., 0.        , 0.        ,\n",
       "        0.        ],\n",
       "       [0.        , 0.        , 0.        , ..., 0.        , 0.        ,\n",
       "        0.42059658],\n",
       "       ...,\n",
       "       [0.18251065, 0.        , 0.        , ..., 0.        , 0.32269896,\n",
       "        0.        ],\n",
       "       [0.        , 0.        , 0.        , ..., 0.        , 0.        ,\n",
       "        0.        ],\n",
       "       [0.        , 0.        , 0.        , ..., 0.        , 0.38921804,\n",
       "        0.        ]])"
      ]
     },
     "execution_count": 21,
     "metadata": {},
     "output_type": "execute_result"
    }
   ],
   "source": [
    "from sklearn import feature_extraction\n",
    "tweets = t['tweet']\n",
    "tfidVector = feature_extraction.text.TfidfVectorizer(max_df = 0.95, min_df = 2, stop_words = \"english\")\n",
    "dfTFIDF = tfidVector.fit_transform(tweets)\n",
    "dfTFIDF.toarray()"
   ]
  },
  {
   "cell_type": "code",
   "execution_count": 22,
   "metadata": {},
   "outputs": [
    {
     "data": {
      "text/plain": [
       "array(['000', '10', '164', '2017', '2021', '2022', '21', '25', '50',\n",
       "       '700k', '72', '800', '8kc', 'acceleration', 'according', 'acres',\n",
       "       'actual', 'address', 'addressing', 'afford', 'affordable', 'ago',\n",
       "       'alberta', 'alert', 'amp', 'annually', 'appreciation', 'average',\n",
       "       'away', 'bank', 'based', 'bathrooms', 'bc', 'bcpoli', 'believe',\n",
       "       'benchmark', 'benefits', 'benrabidoux', 'better', 'biggest',\n",
       "       'bisontrample', 'bobkronbauer', 'borrowing', 'bought', 'breaking',\n",
       "       'bring', 'broke', 'broker', 'building', 'buyers', 'ca', 'calgary',\n",
       "       'canada', 'canadian', 'carbon', 'cities', 'city', 'click', 'close',\n",
       "       'closer', 'clovermortgage', 'compare', 'composite', 'conditions',\n",
       "       'construction', 'contact', 'continue', 'continues', 'cost',\n",
       "       'costs', 'councillors', 'country', 'crazier', 'crazy', 'crea',\n",
       "       'dan', 'daniel_foch', 'data', 'debt', 'demand', 'detached', 'did',\n",
       "       'didn', 'directly', 'dollars', 'downtown', 'driving', 'drops',\n",
       "       'e5sb4qdeje', 'easier', 'east', 'entire', 'estate', 'ethelstan',\n",
       "       'evidenced', 'expected', 'expensive', 'finance', 'fintwit', 'food',\n",
       "       'froth', 'future', 'gains', 'gets', 'going', 'good', 'govt',\n",
       "       'grew', 'grey', 'group', 'growth', 'gta', 'heights', 'high',\n",
       "       'higher', 'highlights', 'home', 'homepricegrowth', 'homeprices',\n",
       "       'homes', 'house', 'household', 'houses', 'housing', 'https',\n",
       "       'huge', 'immigrant', 'immigrants', 'income', 'increased', 'index',\n",
       "       'info', 'instead', 'january', 'jasonpereira', 'jenstden',\n",
       "       'jm_mcgrath', 'just', 'justintrudeau', 'kamalkheralib', 'key',\n",
       "       'knowledgeable', 'lack', 'land', 'latest', 'leading', 'lepage',\n",
       "       'let', 'level', 'like', 'listings', 'live', 'living', 'loan',\n",
       "       'look', 'lot', 'main', 'make', 'making', 'marked', 'market',\n",
       "       'markets', 'matters', 'michael_o_regan', 'mil', 'million',\n",
       "       'mississauga', 'money', 'month', 'mortgage', 'mortimer_1', 'near',\n",
       "       'new', 'non', 'numbers', 'offer', 'officers', 'okay', 'ontario',\n",
       "       'ot', 'ottawa', 'paltry', 'pay', 'peak', 'people', 'percentage',\n",
       "       'periods', 'point', 'ppl', 'pretty', 'price', 'prices', 'proper',\n",
       "       'property', 'province', 'pt', 'rapid', 'real', 'realestate',\n",
       "       'realestategta', 'realestatetoronto', 'record', 'region',\n",
       "       'regulators', 'remained', 'rent', 'renting', 'report',\n",
       "       'residential', 'resulting', 'review', 'right', 'ronmortgageguy',\n",
       "       'rough', 'roughly', 'royal', 'royal_lepage', 'rt', 'said',\n",
       "       'salary', 'sale', 'sales', 'saw', 'scorching', 'scott',\n",
       "       'scottterriohma', 'selling', 'senior', 'seven', 'shelter', 'shit',\n",
       "       'shocked', 'short', 'skeptical', 'snapshot', 'south', 'speak',\n",
       "       'spoiler', 'starting', 'stats', 'stephenpunwasi', 'street',\n",
       "       'strong', 'suburbs', 'suggests', 'summary', 'supply', 'surve',\n",
       "       'survey', 'swiss', 'tag', 'targeted', 'tax', 'tear', 'themed',\n",
       "       'tight', 'time', 'today', 'toronto', 'torontohomestaging',\n",
       "       'torontorealtor', 'torontorealtors', 'torontostagers', 'town',\n",
       "       'transported', 'trends', 'units', 'vancouver', 've', 'viawesome',\n",
       "       'victoria', 'village', 'vs', 'wages', 'way', 'went', 'west',\n",
       "       'whipped', 'whirlwind', 'willing', 'wise', 'wonder', 'wore',\n",
       "       'world', 'year', 'years'], dtype=object)"
      ]
     },
     "execution_count": 22,
     "metadata": {},
     "output_type": "execute_result"
    }
   ],
   "source": [
    "names = tfidVector.get_feature_names_out()\n",
    "names"
   ]
  },
  {
   "cell_type": "code",
   "execution_count": 23,
   "metadata": {},
   "outputs": [
    {
     "data": {
      "text/plain": [
       "68     positive\n",
       "12     negative\n",
       "110    negative\n",
       "124    negative\n",
       "27     negative\n",
       "         ...   \n",
       "106    negative\n",
       "14     negative\n",
       "92     negative\n",
       "51     positive\n",
       "102    negative\n",
       "Name: sentiment, Length: 100, dtype: object"
      ]
     },
     "execution_count": 23,
     "metadata": {},
     "output_type": "execute_result"
    }
   ],
   "source": [
    "from sklearn import model_selection, naive_bayes\n",
    "X_train, X_test, y_train, y_test = model_selection.train_test_split(dfTFIDF, sentiments, test_size = 0.2, train_size = 0.8, random_state = 42)\n",
    "X_train = X_train.toarray()\n",
    "X_test = X_test.toarray()\n",
    "y_train\n"
   ]
  },
  {
   "cell_type": "code",
   "execution_count": 24,
   "metadata": {},
   "outputs": [
    {
     "data": {
      "text/plain": [
       "GaussianNB()"
      ]
     },
     "execution_count": 24,
     "metadata": {},
     "output_type": "execute_result"
    }
   ],
   "source": [
    "gnb = naive_bayes.GaussianNB()\n",
    "gnb.fit(X_train, y_train)"
   ]
  },
  {
   "cell_type": "code",
   "execution_count": 25,
   "metadata": {},
   "outputs": [
    {
     "name": "stdout",
     "output_type": "stream",
     "text": [
      "The score of this array on the training data is: 0.98\n"
     ]
    }
   ],
   "source": [
    "trainingscore = gnb.score(X_train, y_train)\n",
    "print(\"The score of this array on the training data is:\", trainingscore)"
   ]
  },
  {
   "cell_type": "code",
   "execution_count": 26,
   "metadata": {},
   "outputs": [],
   "source": [
    "test_prediction = gnb.predict(X_test)\n"
   ]
  },
  {
   "cell_type": "code",
   "execution_count": 27,
   "metadata": {},
   "outputs": [
    {
     "data": {
      "text/plain": [
       "<AxesSubplot:>"
      ]
     },
     "execution_count": 27,
     "metadata": {},
     "output_type": "execute_result"
    },
    {
     "data": {
      "image/png": "[encoded data removed]",
      "text/plain": [
       "<Figure size 432x288 with 2 Axes>"
      ]
     },
     "metadata": {
      "needs_background": "light"
     },
     "output_type": "display_data"
    }
   ],
   "source": [
    "from sklearn import metrics\n",
    "confusion = metrics.confusion_matrix(y_test, test_prediction)\n",
    "sns.heatmap(confusion)"
   ]
  },
  {
   "cell_type": "code",
   "execution_count": 28,
   "metadata": {},
   "outputs": [
    {
     "name": "stdout",
     "output_type": "stream",
     "text": [
      "['positive' 'positive']\n"
     ]
    }
   ],
   "source": [
    "newSamples = [\"vancouver housing price too high\", \"canada\\'s housing market had the best year ever with price growth continues across canada\"]\n",
    "testSamples = tfidVector.transform(newSamples)\n",
    "testSamples = testSamples.toarray()\n",
    "\n",
    "newPrediction = gnb.predict(testSamples)\n",
    "print(newPrediction)"
   ]
  }
 ],
 "metadata": {
  "interpreter": {
   "hash": "eae239855703e26762fa43cd683d7e50f8a07a30f24594d00eacec5681657f33"
  },
  "kernelspec": {
   "display_name": "Python 3.9.7 ('498A')",
   "language": "python",
   "name": "python3"
  },
  "language_info": {
   "codemirror_mode": {
    "name": "ipython",
    "version": 3
   },
   "file_extension": ".py",
   "mimetype": "text/x-python",
   "name": "python",
   "nbconvert_exporter": "python",
   "pygments_lexer": "ipython3",
   "version": "3.9.7"
  },
  "orig_nbformat": 4
 },
 "nbformat": 4,
 "nbformat_minor": 2
}
