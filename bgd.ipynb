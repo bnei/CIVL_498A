{
 "cells": [
  {
   "cell_type": "code",
   "execution_count": 8,
   "metadata": {},
   "outputs": [
    {
     "name": "stdout",
     "output_type": "stream",
     "text": [
      "Result for 10 epochs: Thetas =  [18.823467702527566, -2.241731063230818, -3.391644303783097]\n",
      "Result for 100 epochs: Thetas =  [18.50385834099181, -3.5515510007519593, -2.4964235032029007]\n",
      "Result for 1000 epochs: Thetas =  [18.06085212610726, -3.41931059023182, -2.433228742282156]\n"
     ]
    }
   ],
   "source": [
    "numEpochs = 2\n",
    "alpha = 0.01\n",
    "\n",
    "#define x matrix\n",
    "#by convention, x0 is defined as 0 to allow theta0 to be the intercept\n",
    "x = [\n",
    "    [1, 2, 3],\n",
    "    [1, 1, 5],\n",
    "    [1, 2, 2],\n",
    "    [1, 2, 3],\n",
    "    [1, 3, 1]]\n",
    "\n",
    "y = [4, 2.5, 6, 4, 5.5]\n",
    "\n",
    "#sets initial theta values\n",
    "initTheta = [20, 1, -2]\n",
    "\n",
    "#takes the dataset and determines how many training samples there are\n",
    "#returns an ordered list of samples \n",
    "def sampleOrder(array):\n",
    "    size = range(len(array))\n",
    "    order = []\n",
    "    for i in size:\n",
    "        order.append(i)\n",
    "    return order\n",
    "\n",
    "#takes list of training samples and the current list of thetas\n",
    "#returns the dot products of all training samples and the thetas\n",
    "#formatted as a list with order given by sampleOrder\n",
    "#assumes all samples have the same size!\n",
    "def calculate_h0(sample, thetas):\n",
    "    size = range(len(sample[0]))\n",
    "    order = sampleOrder(sample)\n",
    "    h0 = []\n",
    "    for i in range(len(order)):\n",
    "        a = 0\n",
    "        for j in size:\n",
    "            a += sample[i][j] * thetas[j]\n",
    "        h0.append(a)\n",
    "    return h0\n",
    "\n",
    "#takes one training sample, its corresponding result, and current thetas\n",
    "#returns list of updated thetfas based on batch gradient descent\n",
    "def updateTheta(array, result, thetas):\n",
    "    epochTheta = thetas\n",
    "    newThetas = []\n",
    "    for i in range(len(epochTheta)):\n",
    "        s = 0\n",
    "        h = calculate_h0(array, epochTheta)\n",
    "        for j in range(len(array)):\n",
    "            s = s + ((h[j] - result[j]) * array[j][i])\n",
    "        update = epochTheta[i] - (alpha * s)\n",
    "        newThetas.append(update)\n",
    "    return newThetas\n",
    "\n",
    "#performs batch gradient descent (perhaps inefficiently)\n",
    "def bgd(array, result, initialThetas, epochs):\n",
    "    runningTheta = initialThetas\n",
    "    for i in range(epochs):\n",
    "        runningTheta = updateTheta(array, result, runningTheta)\n",
    "    return runningTheta\n",
    "\n",
    "ten = bgd(x, y, initTheta, 10)\n",
    "hundred = bgd(x, y, initTheta, 100)\n",
    "thousand = bgd(x, y, initTheta, 1000)\n",
    "\n",
    "print(\"10 Epochs= \", ten)\n",
    "print(\"100 Epochs= \", hundred)\n",
    "print(\"1000 Epochs = \", thousand)\n",
    "\n"
   ]
  }
 ],
 "metadata": {
  "interpreter": {
   "hash": "bb12d4594d03a0f5b053399a1a5e5ea99a2cd38ff0c1f78cd4e79f51b7c582bb"
  },
  "kernelspec": {
   "display_name": "Python 3.9.1 64-bit",
   "language": "python",
   "name": "python3"
  },
  "language_info": {
   "codemirror_mode": {
    "name": "ipython",
    "version": 3
   },
   "file_extension": ".py",
   "mimetype": "text/x-python",
   "name": "python",
   "nbconvert_exporter": "python",
   "pygments_lexer": "ipython3",
   "version": "3.9.7"
  },
  "orig_nbformat": 4
 },
 "nbformat": 4,
 "nbformat_minor": 2
}
