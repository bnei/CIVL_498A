{
 "cells": [
  {
   "cell_type": "code",
   "execution_count": 1,
   "metadata": {},
   "outputs": [],
   "source": [
    "import pandas as pd\n",
    "import numpy as np"
   ]
  },
  {
   "cell_type": "code",
   "execution_count": 2,
   "metadata": {},
   "outputs": [],
   "source": [
    "train = pd.read_csv(\"train.csv\")\n",
    "test = pd.read_csv(\"test.csv\")"
   ]
  },
  {
   "cell_type": "code",
   "execution_count": 3,
   "metadata": {},
   "outputs": [],
   "source": [
    "X_train = train.drop(train.columns[0], axis = 1)\n",
    "X_train = X_train.drop('label', axis = 1)\n",
    "\n",
    "y_train = train[train.columns[-1]]\n"
   ]
  },
  {
   "cell_type": "code",
   "execution_count": 4,
   "metadata": {},
   "outputs": [],
   "source": [
    "X_test = test.drop(test.columns[0], axis = 1)\n",
    "X_test = X_test.drop('label', axis = 1)\n",
    "\n",
    "y_test = test[test.columns[-1]]"
   ]
  },
  {
   "cell_type": "code",
   "execution_count": 5,
   "metadata": {},
   "outputs": [],
   "source": [
    "from sklearn import svm\n",
    "\n",
    "classifiers = []\n",
    "\n",
    "svc_classifier1 = svm.SVC(C = 0.5, kernel = \"linear\")\n",
    "svc_classifier1.fit(X_train, y_train)\n",
    "classifiers.append(svc_classifier1)\n",
    "\n",
    "svc_classifier2 = svm.SVC(C = 1, kernel = \"linear\")\n",
    "svc_classifier2.fit(X_train, y_train)\n",
    "classifiers.append(svc_classifier2)\n",
    "\n",
    "svc_classifier3 = svm.SVC(C = 2, kernel = \"linear\")\n",
    "svc_classifier3.fit(X_train, y_train)\n",
    "classifiers.append(svc_classifier3)\n",
    "\n",
    "svc_classifier4 = svm.SVC(C = 0.5, kernel = \"poly\", degree = 2)\n",
    "svc_classifier4.fit(X_train, y_train)\n",
    "classifiers.append(svc_classifier4)\n",
    "\n",
    "svc_classifier5 = svm.SVC(C = 0.5, kernel = \"poly\", degree = 3)\n",
    "svc_classifier5.fit(X_train, y_train)\n",
    "classifiers.append(svc_classifier5)\n",
    "\n",
    "svc_classifier6 = svm.SVC(C = 0.5, kernel = \"poly\", degree = 5)\n",
    "svc_classifier6.fit(X_train, y_train)\n",
    "classifiers.append(svc_classifier6)\n",
    "\n",
    "svc_classifier7 = svm.SVC(C = 1, kernel = \"poly\", degree = 2)\n",
    "svc_classifier7.fit(X_train, y_train)\n",
    "classifiers.append(svc_classifier7)\n",
    "\n",
    "svc_classifier8 = svm.SVC(C = 1, kernel = \"poly\", degree = 3)\n",
    "svc_classifier8.fit(X_train, y_train)\n",
    "classifiers.append(svc_classifier8)\n",
    "\n",
    "svc_classifier9 = svm.SVC(C = 1, kernel = \"poly\", degree = 5)\n",
    "svc_classifier9.fit(X_train, y_train)\n",
    "classifiers.append(svc_classifier9)\n",
    "\n",
    "svc_classifier10 = svm.SVC(C = 2, kernel = \"poly\", degree = 2)\n",
    "svc_classifier10.fit(X_train, y_train)\n",
    "classifiers.append(svc_classifier10)\n",
    "\n",
    "svc_classifier11 = svm.SVC(C = 2, kernel = \"poly\", degree = 3)\n",
    "svc_classifier11.fit(X_train, y_train)\n",
    "classifiers.append(svc_classifier11)\n",
    "\n",
    "svc_classifier12 = svm.SVC(C = 2, kernel = \"poly\", degree = 5)\n",
    "svc_classifier12.fit(X_train, y_train)\n",
    "classifiers.append(svc_classifier12)\n",
    "\n",
    "svc_classifier13 = svm.SVC(C = 0.5, kernel = \"rbf\")\n",
    "svc_classifier13.fit(X_train, y_train)\n",
    "classifiers.append(svc_classifier13)\n",
    "\n",
    "svc_classifier14 = svm.SVC(C = 1, kernel = \"rbf\")\n",
    "svc_classifier14.fit(X_train, y_train)\n",
    "classifiers.append(svc_classifier14)\n",
    "\n",
    "svc_classifier15 = svm.SVC(C = 2, kernel = \"rbf\")\n",
    "svc_classifier15.fit(X_train, y_train)\n",
    "classifiers.append(svc_classifier15)"
   ]
  },
  {
   "cell_type": "code",
   "execution_count": 6,
   "metadata": {},
   "outputs": [],
   "source": [
    "from sklearn import model_selection\n",
    "import statistics\n",
    "\n",
    "scores = []\n",
    "\n",
    "for n in classifiers:\n",
    "    crossval_current = model_selection.cross_validate(n, X_train, y_train, scoring = \"accuracy\")\n",
    "    score = statistics.mean(crossval_current[\"test_score\"])\n",
    "    scores.append(score)"
   ]
  },
  {
   "cell_type": "code",
   "execution_count": 7,
   "metadata": {},
   "outputs": [
    {
     "name": "stdout",
     "output_type": "stream",
     "text": [
      "[0.4888, 0.4888, 0.4888, 0.5923999999999999, 0.576, 0.5392, 0.5956, 0.5636, 0.5372, 0.5828, 0.5612, 0.532, 0.5996, 0.6228, 0.6344]\n",
      "14\n"
     ]
    }
   ],
   "source": [
    "print (scores)\n",
    "max_index = np.argmax(scores)\n",
    "print(max_index)"
   ]
  },
  {
   "cell_type": "code",
   "execution_count": 9,
   "metadata": {},
   "outputs": [
    {
     "name": "stdout",
     "output_type": "stream",
     "text": [
      "The accuracy score of the best model on the test dataset is 0.622\n"
     ]
    }
   ],
   "source": [
    "from sklearn import metrics\n",
    "\n",
    "y_pred = svc_classifier15.predict(X_test)\n",
    "acc_score = metrics.accuracy_score(y_test, y_pred)\n",
    "\n",
    "print(\"The accuracy score of the best model on the test dataset is\", acc_score)\n"
   ]
  },
  {
   "cell_type": "code",
   "execution_count": null,
   "metadata": {},
   "outputs": [],
   "source": []
  }
 ],
 "metadata": {
  "interpreter": {
   "hash": "eae239855703e26762fa43cd683d7e50f8a07a30f24594d00eacec5681657f33"
  },
  "kernelspec": {
   "display_name": "Python 3.9.7 ('498A')",
   "language": "python",
   "name": "python3"
  },
  "language_info": {
   "codemirror_mode": {
    "name": "ipython",
    "version": 3
   },
   "file_extension": ".py",
   "mimetype": "text/x-python",
   "name": "python",
   "nbconvert_exporter": "python",
   "pygments_lexer": "ipython3",
   "version": "3.9.7"
  },
  "orig_nbformat": 4
 },
 "nbformat": 4,
 "nbformat_minor": 2
}
