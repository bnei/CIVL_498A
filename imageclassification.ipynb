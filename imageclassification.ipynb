{
 "cells": [
  {
   "cell_type": "code",
   "execution_count": 69,
   "metadata": {},
   "outputs": [],
   "source": [
    "import pandas as pd\n",
    "import numpy as np"
   ]
  },
  {
   "cell_type": "code",
   "execution_count": 70,
   "metadata": {},
   "outputs": [],
   "source": [
    "train = pd.read_csv(\"train.csv\")\n",
    "test = pd.read_csv(\"test.csv\")"
   ]
  },
  {
   "cell_type": "code",
   "execution_count": 71,
   "metadata": {},
   "outputs": [],
   "source": [
    "X_train = train.drop(train.columns[0], axis = 1)\n",
    "X_train = X_train.drop('label', axis = 1)\n",
    "\n",
    "y_train = train[train.columns[-1]]\n"
   ]
  },
  {
   "cell_type": "code",
   "execution_count": 72,
   "metadata": {},
   "outputs": [],
   "source": [
    "X_test = test.drop(test.columns[0], axis = 1)\n",
    "X_test = X_test.drop('label', axis = 1)\n",
    "\n",
    "y_test = test[test.columns[-1]]"
   ]
  },
  {
   "cell_type": "code",
   "execution_count": 94,
   "metadata": {},
   "outputs": [],
   "source": [
    "from sklearn import svm\n",
    "\n",
    "classifiers = []\n",
    "\n",
    "svc_classifier1 = svm.SVC(C = 0.5, kernel = \"linear\")\n",
    "svc_classifier1.fit(X_train, y_train)\n",
    "classifiers.append(svc_classifier1)\n",
    "\n",
    "svc_classifier2 = svm.SVC(C = 1, kernel = \"linear\")\n",
    "svc_classifier2.fit(X_train, y_train)\n",
    "classifiers.append(svc_classifier2)\n",
    "\n",
    "svc_classifier3 = svm.SVC(C = 2, kernel = \"linear\")\n",
    "svc_classifier3.fit(X_train, y_train)\n",
    "classifiers.append(svc_classifier3)\n",
    "\n",
    "svc_classifier4 = svm.SVC(C = 0.5, kernel = \"poly\", degree = 2)\n",
    "svc_classifier4.fit(X_train, y_train)\n",
    "classifiers.append(svc_classifier4)\n",
    "\n",
    "svc_classifier5 = svm.SVC(C = 0.5, kernel = \"poly\", degree = 3)\n",
    "svc_classifier5.fit(X_train, y_train)\n",
    "classifiers.append(svc_classifier5)\n",
    "\n",
    "svc_classifier6 = svm.SVC(C = 0.5, kernel = \"poly\", degree = 5)\n",
    "svc_classifier6.fit(X_train, y_train)\n",
    "classifiers.append(svc_classifier6)\n",
    "\n",
    "svc_classifier7 = svm.SVC(C = 1, kernel = \"poly\", degree = 2)\n",
    "svc_classifier7.fit(X_train, y_train)\n",
    "classifiers.append(svc_classifier7)\n",
    "\n",
    "svc_classifier8 = svm.SVC(C = 1, kernel = \"poly\", degree = 3)\n",
    "svc_classifier8.fit(X_train, y_train)\n",
    "classifiers.append(svc_classifier8)\n",
    "\n",
    "svc_classifier9 = svm.SVC(C = 1, kernel = \"poly\", degree = 5)\n",
    "svc_classifier9.fit(X_train, y_train)\n",
    "classifiers.append(svc_classifier9)\n",
    "\n",
    "svc_classifier10 = svm.SVC(C = 2, kernel = \"poly\", degree = 2)\n",
    "svc_classifier10.fit(X_train, y_train)\n",
    "classifiers.append(svc_classifier10)\n",
    "\n",
    "svc_classifier11 = svm.SVC(C = 2, kernel = \"poly\", degree = 3)\n",
    "svc_classifier11.fit(X_train, y_train)\n",
    "classifiers.append(svc_classifier11)\n",
    "\n",
    "svc_classifier12 = svm.SVC(C = 2, kernel = \"poly\", degree = 5)\n",
    "svc_classifier12.fit(X_train, y_train)\n",
    "classifiers.append(svc_classifier12)\n",
    "\n",
    "svc_classifier13 = svm.SVC(C = 0.5, kernel = \"rbf\")\n",
    "svc_classifier13.fit(X_train, y_train)\n",
    "classifiers.append(svc_classifier13)\n",
    "\n",
    "svc_classifier14 = svm.SVC(C = 1, kernel = \"rbf\")\n",
    "svc_classifier14.fit(X_train, y_train)\n",
    "classifiers.append(svc_classifier14)\n",
    "\n",
    "svc_classifier15 = svm.SVC(C = 2, kernel = \"rbf\")\n",
    "svc_classifier15.fit(X_train, y_train)\n",
    "classifiers.append(svc_classifier15)"
   ]
  },
  {
   "cell_type": "code",
   "execution_count": 96,
   "metadata": {},
   "outputs": [
    {
     "data": {
      "text/plain": [
       "'\\n\\ncrossval1 = model_selection.cross_validate(svc_classifier1, X_test, y_test, scoring = \"accuracy\")\\nscores_1 = statistics.mean(crossval1[\"test_score\"])\\n\\ncrossval2 = model_selection.cross_validate(svc_classifier2, X_test, y_test, scoring = \"accuracy\")\\nscores_2 = statistics.mean(crossval2[\"test_score\"])\\n\\ncrossval8 = model_selection.cross_validate(svc_classifier11, X_test, y_test, scoring = \"accuracy\")\\nscores_8 = statistics.mean(crossval8[\"test_score\"])\\n\\n\\nprint(scores_1, scores_2, scores_8)\\n'"
      ]
     },
     "execution_count": 96,
     "metadata": {},
     "output_type": "execute_result"
    }
   ],
   "source": [
    "from sklearn import model_selection\n",
    "import statistics\n",
    "\n",
    "scores = []\n",
    "\n",
    "for n in classifiers:\n",
    "    crossval_current = model_selection.cross_validate(n, X_test, y_test, scoring = \"accuracy\")\n",
    "    score = statistics.mean(crossval_current[\"test_score\"])\n",
    "    scores.append(score)"
   ]
  },
  {
   "cell_type": "code",
   "execution_count": 98,
   "metadata": {},
   "outputs": [
    {
     "name": "stdout",
     "output_type": "stream",
     "text": [
      "[0.48, 0.48, 0.48, 0.482, 0.492, 0.446, 0.498, 0.478, 0.444, 0.492, 0.476, 0.45, 0.488, 0.508, 0.506]\n",
      "13\n"
     ]
    }
   ],
   "source": [
    "print (scores)\n",
    "max_index = np.argmax(scores)\n",
    "print(max_index)"
   ]
  },
  {
   "cell_type": "code",
   "execution_count": 101,
   "metadata": {},
   "outputs": [
    {
     "name": "stdout",
     "output_type": "stream",
     "text": [
      "The accuracy score of the best model is 0.616\n"
     ]
    }
   ],
   "source": [
    "from sklearn import metrics\n",
    "\n",
    "y_pred = svc_classifier14.predict(X_test)\n",
    "acc_score = metrics.accuracy_score(y_test, y_pred)\n",
    "\n",
    "print(\"The accuracy score of the best model is\", acc_score)\n"
   ]
  },
  {
   "cell_type": "code",
   "execution_count": null,
   "metadata": {},
   "outputs": [],
   "source": []
  }
 ],
 "metadata": {
  "interpreter": {
   "hash": "eae239855703e26762fa43cd683d7e50f8a07a30f24594d00eacec5681657f33"
  },
  "kernelspec": {
   "display_name": "Python 3.9.7 ('498A')",
   "language": "python",
   "name": "python3"
  },
  "language_info": {
   "codemirror_mode": {
    "name": "ipython",
    "version": 3
   },
   "file_extension": ".py",
   "mimetype": "text/x-python",
   "name": "python",
   "nbconvert_exporter": "python",
   "pygments_lexer": "ipython3",
   "version": "3.9.7"
  },
  "orig_nbformat": 4
 },
 "nbformat": 4,
 "nbformat_minor": 2
}
