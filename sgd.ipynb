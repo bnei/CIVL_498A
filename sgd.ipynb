{
 "cells": [
  {
   "cell_type": "code",
   "execution_count": 27,
   "metadata": {},
   "outputs": [
    {
     "name": "stdout",
     "output_type": "stream",
     "text": [
      "Thetas:  [19.999996987049965, -2.9999996170413654, -1.9999995354501576]\n",
      "Results:  [2.0000005402662886, 6.999999692757813, 0.9999998309428233, 7.999999146616761, 3.770838725714043e-07]\n"
     ]
    }
   ],
   "source": [
    "numEpochs = 10000\n",
    "alpha = 0.01\n",
    "\n",
    "#define x matrix\n",
    "#by convention, x0 is defined as 1 to allow theta0 to be the intercept\n",
    "#you must add this in manually!!!\n",
    "x = [[1, 2, 6],\n",
    "     [1, 1, 5],\n",
    "     [1, 5, 2],\n",
    "     [1, 2, 3],\n",
    "     [1, 4, 4]]\n",
    "\n",
    "y = [2, 7, 1, 8, 0]\n",
    "\n",
    "#sets initial theta values\n",
    "initTheta = [10, 0, -1]\n",
    "\n",
    "#takes the dataset and determines how many training samples there are\n",
    "#returns an ordered list of samples\n",
    "def sampleOrder(array):\n",
    "    size = range(len(array))\n",
    "    order = []\n",
    "    for i in size:\n",
    "        order.append(i)\n",
    "    return order\n",
    "\n",
    "#takes list of training samples and the current list of thetas\n",
    "#returns the dot products of all training samples and the thetas\n",
    "#formatted as a list with order given by sampleOrder\n",
    "#assumes all samples have the same size!\n",
    "def calculate_h0(sample, thetas):\n",
    "    size = range(len(sample[0]))\n",
    "    order = sampleOrder(sample)\n",
    "    h0 = []\n",
    "    for i in range(len(order)):\n",
    "        a = 0\n",
    "        for j in size:\n",
    "            a += sample[i][j] * thetas[j]\n",
    "        h0.append(a)\n",
    "    return h0\n",
    "\n",
    "#takes one training sample, its corresponding result, and current thetas\n",
    "#returns list of updated thetas based on stochastic gradient descent\n",
    "def updateTheta(array, observation, result, thetas):\n",
    "    h = calculate_h0(array, thetas)\n",
    "    dJdT = []\n",
    "    for i in range(len(thetas)):\n",
    "        dJdT.append(array[observation][i] * (h[observation] - result[observation]))\n",
    "    for i in range(len(thetas)):\n",
    "        thetas[i] = thetas[i] - (alpha * dJdT[i])\n",
    "    return thetas\n",
    "\n",
    "#performs stochastic gradient descent (probably inefficiently)\n",
    "def sgd(array, result, initialThetas, epochs):\n",
    "    theta = initialThetas\n",
    "    for i in range(epochs):\n",
    "        order = sampleOrder(array)\n",
    "        for i in order:\n",
    "            theta = updateTheta(array, order[i], result, theta)\n",
    "            #print(\"Thetas = \", theta, \"h0 =\", calculate_h0(x, theta))\n",
    "    return theta\n",
    "\n",
    "\n",
    "newThetas = sgd(x, y, initTheta, numEpochs)\n",
    "print(\"Thetas: \", newThetas)\n",
    "print(\"Results: \", calculate_h0(x, newThetas))\n"
   ]
  }
 ],
 "metadata": {
  "interpreter": {
   "hash": "bb12d4594d03a0f5b053399a1a5e5ea99a2cd38ff0c1f78cd4e79f51b7c582bb"
  },
  "kernelspec": {
   "display_name": "Python 3.9.1 64-bit",
   "language": "python",
   "name": "python3"
  },
  "language_info": {
   "codemirror_mode": {
    "name": "ipython",
    "version": 3
   },
   "file_extension": ".py",
   "mimetype": "text/x-python",
   "name": "python",
   "nbconvert_exporter": "python",
   "pygments_lexer": "ipython3",
   "version": "3.9.7"
  },
  "orig_nbformat": 4
 },
 "nbformat": 4,
 "nbformat_minor": 2
}
