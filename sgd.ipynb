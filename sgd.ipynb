{
 "cells": [
  {
   "cell_type": "code",
   "execution_count": 102,
   "metadata": {},
   "outputs": [
    {
     "name": "stdout",
     "output_type": "stream",
     "text": [
      "10 Epochs:  [10.001371129875462, -1.5384734431260572, -0.6098090890578749]\n",
      "100 Epochs:  [11.262381693195241, -1.88941192518346, -0.6527957141191639]\n",
      "1000 Epochs:  [17.741073727552994, -2.7128809607525857, -1.651708846273411]\n"
     ]
    }
   ],
   "source": [
    "alpha = 0.01\n",
    "\n",
    "#define x matrix\n",
    "#by convention, x0 is defined as 1 to allow theta0 to be the intercept\n",
    "#you must add this in manually!!!\n",
    "x = [\n",
    "    [1, 2, 6],\n",
    "    [1, 1, 5],\n",
    "    [1, 5, 2],\n",
    "    [1, 2, 3],\n",
    "    [1, 4, 4]]\n",
    "\n",
    "y = [2, 7, 1, 8, 0]\n",
    "\n",
    "#sets initial theta values\n",
    "initTheta = [10, 0, -1]\n",
    "\n",
    "#takes the dataset and determines how many training samples there are\n",
    "#returns an ordered list of samples\n",
    "def sampleOrder(array):\n",
    "    size = range(len(array))\n",
    "    order = []\n",
    "    for i in size:\n",
    "        order.append(i)\n",
    "    return order\n",
    "\n",
    "#takes list of training samples and the current list of thetas\n",
    "#returns the dot products of all training samples and the thetas\n",
    "#formatted as a list with order given by sampleOrder\n",
    "#assumes all samples have the same size!\n",
    "def calculate_h0(sample, thetas):\n",
    "    size = range(len(sample[0]))\n",
    "    order = sampleOrder(sample)\n",
    "    h0 = []\n",
    "    for i in range(len(order)):\n",
    "        a = 0\n",
    "        for j in size:\n",
    "            a += sample[i][j] * thetas[j]\n",
    "        h0.append(a)\n",
    "    return h0\n",
    "\n",
    "#takes one training sample, its corresponding result, and current thetas\n",
    "#returns list of updated thetas based on stochastic gradient descent\n",
    "def updateTheta(array, observation, result, thetas):\n",
    "    h = calculate_h0(array, thetas)\n",
    "    dJdT = []\n",
    "    newThetas = []\n",
    "    for i in range(len(thetas)):\n",
    "        dJdT.append(array[observation][i] * (h[observation] - result[observation]))\n",
    "        newThetas.append(thetas[i] - (alpha * dJdT[i]))\n",
    "    return newThetas\n",
    "\n",
    "\n",
    "#performs sgd (probably inefficiently)\n",
    "def sgd(array, result, thetas, epochs):\n",
    "    currentThetas = thetas\n",
    "    for i in range(epochs):\n",
    "        order = sampleOrder(array)\n",
    "        for j in order:\n",
    "            currentThetas = updateTheta(array, order[j], result, currentThetas)\n",
    "    return currentThetas\n",
    "\n",
    "ten = sgd(x, y, initTheta, 10)\n",
    "hundred = sgd(x, y, initTheta, 100)\n",
    "thousand = sgd(x, y, initTheta, 1000)\n",
    "\n",
    "print(\"10 Epochs: \", ten)\n",
    "print(\"100 Epochs: \", hundred)\n",
    "print(\"1000 Epochs: \", thousand)\n",
    "\n",
    "\n"
   ]
  }
 ],
 "metadata": {
  "interpreter": {
   "hash": "bb12d4594d03a0f5b053399a1a5e5ea99a2cd38ff0c1f78cd4e79f51b7c582bb"
  },
  "kernelspec": {
   "display_name": "Python 3.9.1 64-bit",
   "language": "python",
   "name": "python3"
  },
  "language_info": {
   "codemirror_mode": {
    "name": "ipython",
    "version": 3
   },
   "file_extension": ".py",
   "mimetype": "text/x-python",
   "name": "python",
   "nbconvert_exporter": "python",
   "pygments_lexer": "ipython3",
   "version": "3.9.7"
  },
  "orig_nbformat": 4
 },
 "nbformat": 4,
 "nbformat_minor": 2
}
