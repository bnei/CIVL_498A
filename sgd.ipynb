{
 "cells": [
  {
   "cell_type": "code",
   "execution_count": 99,
   "metadata": {},
   "outputs": [
    {
     "name": "stdout",
     "output_type": "stream",
     "text": [
      "[2.0781084028237644, -0.14157585586389407, 3.1445132191335023, 0.979324052679747, -1.4905139712159148]\n",
      "[9.999575450329885, 19.99976931334528, 9.999926232489194]\n"
     ]
    }
   ],
   "source": [
    "numEpochs = 1000\n",
    "alpha = 0.01\n",
    "\n",
    "#define x matrix\n",
    "#by convention, x0 is defined as 0 to allow theta0 to be the intercept\n",
    "x = [[1, 2, 2, 5, 2],\n",
    "     [1, 1, 5, 10, 5],\n",
    "     [1, 5, 2, 10, 5]]\n",
    "\n",
    "y = [10, 20, 10]\n",
    "\n",
    "#sets initial theta values\n",
    "initTheta = [0, 0, 0, 0, 0]\n",
    "\n",
    "#takes the dataset and determines how many training samples there are\n",
    "#returns an ordered list of samples (random order not implemented due to course constraints)\n",
    "def sampleOrder(array):\n",
    "    size = range(len(array))\n",
    "    order = []\n",
    "    for i in size:\n",
    "        order.append(i)\n",
    "    return order\n",
    "\n",
    "#takes list of training samples and the current list of thetas\n",
    "#returns the dot products of all training samples and the thetas\n",
    "#formatted as a list with order given by sampleOrder \n",
    "#assumes all samples have the same size!\n",
    "def calculate_h0(sample, thetas):\n",
    "    size = range(len(sample[0]))\n",
    "    order = sampleOrder(sample)\n",
    "    h0 = []\n",
    "    for i in range(len(order)):\n",
    "        a = 0\n",
    "        for j in size:\n",
    "            a += sample[i][j] * thetas[j]\n",
    "        h0.append(a)\n",
    "    return h0\n",
    "\n",
    "#takes one training sample, its corresponding result, and current thetas\n",
    "#returns list of updated thetas based on stochastic gradient descent\n",
    "def updateTheta(array, observation, result, thetas):\n",
    "    h = calculate_h0(array, thetas)\n",
    "    dJdT = []\n",
    "    for i in range(len(thetas)):\n",
    "        dJdT.append(array[observation][i] * (h[observation] - result[observation]))\n",
    "    for i in range(len(thetas)):\n",
    "        thetas[i] = thetas[i] - (alpha * dJdT[i])\n",
    "    return thetas\n",
    "\n",
    "#performs stochastic gradient descent (perhaps inefficiently)\n",
    "def sgd(array, result, initialThetas, epochs):\n",
    "    theta = initialThetas\n",
    "    for i in range(epochs):\n",
    "        order = sampleOrder(array)\n",
    "        for i in order:\n",
    "            theta =  updateTheta(array, order[i], result, theta)\n",
    "    return theta\n",
    "\n",
    "newThetas = sgd(x, y, initTheta, numEpochs)\n",
    "print(newThetas)\n",
    "print(calculate_h0(x, newThetas))\n"
   ]
  }
 ],
 "metadata": {
  "interpreter": {
   "hash": "bb12d4594d03a0f5b053399a1a5e5ea99a2cd38ff0c1f78cd4e79f51b7c582bb"
  },
  "kernelspec": {
   "display_name": "Python 3.9.1 64-bit",
   "language": "python",
   "name": "python3"
  },
  "language_info": {
   "codemirror_mode": {
    "name": "ipython",
    "version": 3
   },
   "file_extension": ".py",
   "mimetype": "text/x-python",
   "name": "python",
   "nbconvert_exporter": "python",
   "pygments_lexer": "ipython3",
   "version": "3.9.1"
  },
  "orig_nbformat": 4
 },
 "nbformat": 4,
 "nbformat_minor": 2
}
